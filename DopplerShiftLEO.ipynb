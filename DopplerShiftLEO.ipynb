{
 "cells": [
  {
   "cell_type": "markdown",
   "metadata": {},
   "source": [
    "# time sync"
   ]
  },
  {
   "cell_type": "code",
   "execution_count": 164,
   "metadata": {
    "collapsed": true
   },
   "outputs": [],
   "source": [
    "import ephem\n",
    "import matplotlib.pyplot as plt"
   ]
  },
  {
   "cell_type": "code",
   "execution_count": 3,
   "metadata": {
    "collapsed": false
   },
   "outputs": [
    {
     "name": "stdout",
     "output_type": "stream",
     "text": [
      "5:35:45.28 23:32:54.1 5.6\n"
     ]
    }
   ],
   "source": [
    "u = ephem.Uranus()\n",
    "u.compute('1781/3/13') \n",
    "print('%s %s %s' % (u.ra, u.dec, u.mag))"
   ]
  },
  {
   "cell_type": "code",
   "execution_count": 4,
   "metadata": {
    "collapsed": false
   },
   "outputs": [
    {
     "name": "stdout",
     "output_type": "stream",
     "text": [
      "('Tau', 'Taurus')\n"
     ]
    }
   ],
   "source": [
    "print(ephem.constellation(u))"
   ]
  },
  {
   "cell_type": "markdown",
   "metadata": {},
   "source": [
    "TLE from norad \n",
    "\n",
    "    GALASSIA                \n",
    "    1 41170U 15077E   18291.47886069  .00002035  00000-0  73075-4 0  9998\n",
    "    2 41170  14.9881 191.7979 0013088 334.9563  25.0122 15.13422614157130\n",
    "    \n",
    "    NUS observation locatoin\n",
    "    1.2954752,103.7800079"
   ]
  },
  {
   "cell_type": "code",
   "execution_count": 41,
   "metadata": {
    "collapsed": true
   },
   "outputs": [],
   "source": [
    "my_loc = ephem.Observer()\n",
    "my_loc.lat = '1.2954752'\n",
    "my_loc.lon = '103.7800079'\n",
    "my_loc.elevation = 100"
   ]
  },
  {
   "cell_type": "code",
   "execution_count": 20,
   "metadata": {
    "collapsed": true
   },
   "outputs": [],
   "source": [
    "name = 'GALASSIA'\n",
    "line1 = '1 41170U 15077E   18291.47886069  .00002035  00000-0  73075-4 0  9998'\n",
    "line2 = '2 41170  14.9881 191.7979 0013088 334.9563  25.0122 15.13422614157130'\n",
    "my_sat = ephem.readtle(name,line1,line2)"
   ]
  },
  {
   "cell_type": "code",
   "execution_count": 21,
   "metadata": {
    "collapsed": true
   },
   "outputs": [],
   "source": [
    "info=my_loc.next_pass(my_sat)"
   ]
  },
  {
   "cell_type": "markdown",
   "metadata": {},
   "source": [
    "    AOS stands for Acquisition of Signal\n",
    "    TCA stands for Time of Closest Approach\n",
    "    LOS stands for Loss of Signal (or Satellite)\n",
    "    info []\n",
    "    0  Rise time\n",
    "    1  Rise azimuth\n",
    "    2  Maximum altitude time (TCA- time of closed approach)\n",
    "    3  Maximum altitude\n",
    "    4  Set time\n",
    "    5  Set azimuth\n",
    "    \n",
    " All PyEphem dates are expressed in Universal Time (UTC)"
   ]
  },
  {
   "cell_type": "code",
   "execution_count": 22,
   "metadata": {
    "collapsed": false
   },
   "outputs": [
    {
     "name": "stdout",
     "output_type": "stream",
     "text": [
      "AOS: 2018/10/19 08:16:39 \n",
      "LOS: 2018/10/19 08:27:30 \n",
      "Maximum Altitude: 12:42:16.7 \n",
      "Maximum Altitude Time: 2018/10/19 08:22:04\n"
     ]
    }
   ],
   "source": [
    "\n",
    "print(\"AOS: %s \\nLOS: %s \\nMaximum Altitude: %s \\nMaximum Altitude Time: %s\" % (info[0], info[4], info[3], info[2]))"
   ]
  },
  {
   "cell_type": "markdown",
   "metadata": {},
   "source": [
    "Saved pass\n",
    "\n",
    "    AOS: 2018/10/19 06:34:18\n",
    "    \n",
    "    LOS: 2018/10/19 06:46:09 \n",
    "    \n",
    "    Maximum Altitude: 20:46:07.2 \n",
    "    \n",
    "    Maximum Altitude Time (TCA): 2018/10/19 06:40:12\n",
    "    "
   ]
  },
  {
   "cell_type": "code",
   "execution_count": 23,
   "metadata": {
    "collapsed": false,
    "scrolled": true
   },
   "outputs": [
    {
     "data": {
      "text/plain": [
       "(43390.8448990618,\n",
       " 5.190250396728516,\n",
       " 43390.84865361495,\n",
       " 0.22173798084259033,\n",
       " 43390.85242485742,\n",
       " 0.917414665222168)"
      ]
     },
     "execution_count": 23,
     "metadata": {},
     "output_type": "execute_result"
    }
   ],
   "source": [
    "info"
   ]
  },
  {
   "cell_type": "code",
   "execution_count": 30,
   "metadata": {
    "collapsed": false
   },
   "outputs": [
    {
     "data": {
      "text/plain": [
       "ephem.Date"
      ]
     },
     "execution_count": 30,
     "metadata": {},
     "output_type": "execute_result"
    }
   ],
   "source": [
    "type(info[0])"
   ]
  },
  {
   "cell_type": "code",
   "execution_count": 53,
   "metadata": {
    "collapsed": true
   },
   "outputs": [],
   "source": [
    "tca = info[4]"
   ]
  },
  {
   "cell_type": "code",
   "execution_count": 54,
   "metadata": {
    "collapsed": false
   },
   "outputs": [
    {
     "name": "stdout",
     "output_type": "stream",
     "text": [
      "Range velocity: -5371.810546875 \n"
     ]
    }
   ],
   "source": [
    "my_sat.compute(my_loc)\n",
    "print(\"Range velocity: %s \" % (my_sat.range_velocity))"
   ]
  },
  {
   "cell_type": "code",
   "execution_count": 75,
   "metadata": {
    "collapsed": true
   },
   "outputs": [],
   "source": [
    "my_loc.date = ephem.Date(tca - (ephem.minute *6))\n",
    "#my_loc.date = info[0] + (ephem.minute *6)\n",
    "#my_loc.date=ephem.Date('2018/10/19 06:40:12')"
   ]
  },
  {
   "cell_type": "code",
   "execution_count": 76,
   "metadata": {
    "collapsed": false
   },
   "outputs": [
    {
     "name": "stdout",
     "output_type": "stream",
     "text": [
      "Range velocity: -946.2642822265625 \n"
     ]
    }
   ],
   "source": [
    "my_sat.compute(my_loc)\n",
    "print(\"Range velocity: %s \" % (my_sat.range_velocity))"
   ]
  },
  {
   "cell_type": "code",
   "execution_count": 77,
   "metadata": {
    "collapsed": true
   },
   "outputs": [],
   "source": [
    "d = ephem.Date('2018/10/19 06:40:12')\n",
    "nd = d + (ephem.minute * 3)"
   ]
  },
  {
   "cell_type": "code",
   "execution_count": 78,
   "metadata": {
    "collapsed": false
   },
   "outputs": [
    {
     "name": "stdout",
     "output_type": "stream",
     "text": [
      "2018/10/19 06:43:12\n"
     ]
    }
   ],
   "source": [
    "print (ephem.Date(nd) )"
   ]
  },
  {
   "cell_type": "code",
   "execution_count": 81,
   "metadata": {
    "collapsed": false
   },
   "outputs": [
    {
     "data": {
      "text/plain": [
       "datetime.datetime(2018, 10, 19, 14, 40, 12, 4)"
      ]
     },
     "execution_count": 81,
     "metadata": {},
     "output_type": "execute_result"
    }
   ],
   "source": [
    "ephem.localtime(d)"
   ]
  },
  {
   "cell_type": "code",
   "execution_count": 82,
   "metadata": {
    "collapsed": true
   },
   "outputs": [],
   "source": [
    "aos = (ephem.Date(\"2018/10/19 04:52:24\") - ephem.minute* 10)"
   ]
  },
  {
   "cell_type": "code",
   "execution_count": 84,
   "metadata": {
    "collapsed": false
   },
   "outputs": [
    {
     "name": "stdout",
     "output_type": "stream",
     "text": [
      "2018/10/19 04:52:24\n"
     ]
    }
   ],
   "source": [
    "print(aos)"
   ]
  },
  {
   "cell_type": "code",
   "execution_count": 85,
   "metadata": {
    "collapsed": true
   },
   "outputs": [],
   "source": [
    "my_loc.date = ephem.Date(aos)"
   ]
  },
  {
   "cell_type": "code",
   "execution_count": 86,
   "metadata": {
    "collapsed": false
   },
   "outputs": [
    {
     "name": "stdout",
     "output_type": "stream",
     "text": [
      "2018/10/19 04:52:24\n"
     ]
    }
   ],
   "source": [
    "print (my_loc.date)"
   ]
  },
  {
   "cell_type": "code",
   "execution_count": 118,
   "metadata": {
    "collapsed": true
   },
   "outputs": [],
   "source": [
    "my_loc.date = ephem.Date(\"2018/10/19 04:45:13\")"
   ]
  },
  {
   "cell_type": "code",
   "execution_count": 119,
   "metadata": {
    "collapsed": false
   },
   "outputs": [
    {
     "name": "stdout",
     "output_type": "stream",
     "text": [
      "Range velocity: -6223.44287109375 \n"
     ]
    }
   ],
   "source": [
    "my_sat.compute(my_loc)\n",
    "print(\"Range velocity: %s \" % (my_sat.range_velocity))"
   ]
  },
  {
   "cell_type": "code",
   "execution_count": 106,
   "metadata": {
    "collapsed": false
   },
   "outputs": [
    {
     "ename": "AttributeError",
     "evalue": "'ephem.EarthSatellite' object has no attribute 'el'",
     "output_type": "error",
     "traceback": [
      "\u001b[0;31m---------------------------------------------------------------------------\u001b[0m",
      "\u001b[0;31mAttributeError\u001b[0m                            Traceback (most recent call last)",
      "\u001b[0;32m<ipython-input-106-cefa6a3a521a>\u001b[0m in \u001b[0;36m<module>\u001b[0;34m()\u001b[0m\n\u001b[0;32m----> 1\u001b[0;31m \u001b[0mmy_sat\u001b[0m\u001b[0;34m.\u001b[0m\u001b[0mel\u001b[0m\u001b[0;34m\u001b[0m\u001b[0m\n\u001b[0m",
      "\u001b[0;31mAttributeError\u001b[0m: 'ephem.EarthSatellite' object has no attribute 'el'"
     ]
    }
   ],
   "source": [
    "my_sat.el"
   ]
  },
  {
   "cell_type": "code",
   "execution_count": 120,
   "metadata": {
    "collapsed": false
   },
   "outputs": [
    {
     "name": "stdout",
     "output_type": "stream",
     "text": [
      "-18:49:06.2\n"
     ]
    }
   ],
   "source": [
    "print (my_sat.alt)"
   ]
  },
  {
   "cell_type": "code",
   "execution_count": 134,
   "metadata": {
    "collapsed": true
   },
   "outputs": [],
   "source": [
    "start_time = ephem.Date('2018/10/19 04:53:01')"
   ]
  },
  {
   "cell_type": "code",
   "execution_count": 145,
   "metadata": {
    "collapsed": false
   },
   "outputs": [],
   "source": [
    "v_list = []\n",
    "t_list = []\n",
    "alt_list = []\n",
    "for i in range (600):\n",
    "    d_time = ephem.Date(start_time + (ephem.second * i  ) )\n",
    "    my_loc.date = d_time\n",
    "    my_sat.compute(my_loc)\n",
    "    v_list.append(my_sat.range_velocity)\n",
    "    t_list.append(d_time)\n",
    "    alt_list.append(my_sat.alt) "
   ]
  },
  {
   "cell_type": "code",
   "execution_count": null,
   "metadata": {
    "collapsed": false
   },
   "outputs": [],
   "source": []
  },
  {
   "cell_type": "code",
   "execution_count": 160,
   "metadata": {
    "collapsed": false
   },
   "outputs": [],
   "source": [
    "f = 1e9"
   ]
  },
  {
   "cell_type": "code",
   "execution_count": 158,
   "metadata": {
    "collapsed": false
   },
   "outputs": [
    {
     "name": "stdout",
     "output_type": "stream",
     "text": [
      "36:56:42.5\n"
     ]
    }
   ],
   "source": [
    "print(alt_list[400])"
   ]
  },
  {
   "cell_type": "code",
   "execution_count": 176,
   "metadata": {
    "collapsed": false
   },
   "outputs": [],
   "source": [
    "df_list = []\n",
    "nt_list = [(x - start_time)*24*60*60 for x in t_list]\n",
    "for dv in v_list:\n",
    "    df = -(dv /ephem.c) * f\n",
    "    df_list.append(df)"
   ]
  },
  {
   "cell_type": "code",
   "execution_count": 185,
   "metadata": {
    "collapsed": false
   },
   "outputs": [
    {
     "data": {
      "text/plain": [
       "Text(0,0.5,'Frequency shift in Hz')"
      ]
     },
     "execution_count": 185,
     "metadata": {},
     "output_type": "execute_result"
    }
   ],
   "source": [
    "plt.plot(nt_list,df_list)\n",
    "plt.title('Doppler shift of 1GHz clock')\n",
    "plt.xlabel(\"time (seconds)\")\n",
    "plt.ylabel('Frequency shift in Hz')"
   ]
  },
  {
   "cell_type": "code",
   "execution_count": 186,
   "metadata": {
    "collapsed": false
   },
   "outputs": [
    {
     "data": {
      "image/png": "[encoded data removed]",
      "text/plain": [
       "<matplotlib.figure.Figure at 0x7f54e0687128>"
      ]
     },
     "metadata": {},
     "output_type": "display_data"
    }
   ],
   "source": [
    "plt.savefig(\"DopplerShift.png\") \n",
    "plt.show()"
   ]
  },
  {
   "cell_type": "code",
   "execution_count": 168,
   "metadata": {
    "collapsed": true
   },
   "outputs": [],
   "source": []
  },
  {
   "cell_type": "code",
   "execution_count": null,
   "metadata": {
    "collapsed": true
   },
   "outputs": [],
   "source": []
  }
 ],
 "metadata": {
  "kernelspec": {
   "display_name": "Python 3",
   "language": "python",
   "name": "python3"
  },
  "language_info": {
   "codemirror_mode": {
    "name": "ipython",
    "version": 3
   },
   "file_extension": ".py",
   "mimetype": "text/x-python",
   "name": "python",
   "nbconvert_exporter": "python",
   "pygments_lexer": "ipython3",
   "version": "3.5.2"
  }
 },
 "nbformat": 4,
 "nbformat_minor": 1
}
