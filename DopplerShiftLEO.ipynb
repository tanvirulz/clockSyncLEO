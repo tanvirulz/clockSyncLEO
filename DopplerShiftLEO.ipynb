{
 "cells": [
  {
   "cell_type": "markdown",
   "metadata": {},
   "source": [
    "# time sync"
   ]
  },
  {
   "cell_type": "code",
   "execution_count": 43,
   "metadata": {},
   "outputs": [],
   "source": [
    "import ephem\n",
    "import matplotlib.pyplot as plt"
   ]
  },
  {
   "cell_type": "code",
   "execution_count": 44,
   "metadata": {},
   "outputs": [
    {
     "name": "stdout",
     "output_type": "stream",
     "text": [
      "5:35:45.28 23:32:54.1 5.6\n"
     ]
    }
   ],
   "source": [
    "u = ephem.Uranus()\n",
    "u.compute('1781/3/13') \n",
    "print('%s %s %s' % (u.ra, u.dec, u.mag))"
   ]
  },
  {
   "cell_type": "code",
   "execution_count": 45,
   "metadata": {},
   "outputs": [
    {
     "name": "stdout",
     "output_type": "stream",
     "text": [
      "('Tau', 'Taurus')\n"
     ]
    }
   ],
   "source": [
    "print(ephem.constellation(u))"
   ]
  },
  {
   "cell_type": "markdown",
   "metadata": {},
   "source": [
    "TLE from norad \n",
    "\n",
    "    GALASSIA                \n",
    "    1 41170U 15077E   18291.47886069  .00002035  00000-0  73075-4 0  9998\n",
    "    2 41170  14.9881 191.7979 0013088 334.9563  25.0122 15.13422614157130\n",
    "    \n",
    "    NUS observation locatoin\n",
    "    1.2954752,103.7800079"
   ]
  },
  {
   "cell_type": "code",
   "execution_count": 47,
   "metadata": {},
   "outputs": [],
   "source": [
    "my_loc = ephem.Observer()\n",
    "my_loc.lat = '1.2954752'\n",
    "my_loc.lon = '103.7800079'\n",
    "my_loc.elevation = 100"
   ]
  },
  {
   "cell_type": "code",
   "execution_count": 87,
   "metadata": {},
   "outputs": [],
   "source": [
    "name = 'GALASSIA'\n",
    "line1 = '1 41170U 15077E   18291.47886069  .00002035  00000-0  73075-4 0  9998'\n",
    "line2 = '2 41170  14.9881 191.7979 0013088 334.9563  25.0122 15.13422614157130'\n",
    "#name = \"ISS (ZARYA)\"             \n",
    "#line1 =\"1 25544U 98067A   18345.71766725  .00004176  00000-0  70390-4 0  9993\"\n",
    "#line2 = \"2 25544  51.6422 214.0093 0005343 137.0686 327.4053 15.54088385146122\"\n",
    "my_sat = ephem.readtle(name,line1,line2)"
   ]
  },
  {
   "cell_type": "code",
   "execution_count": 88,
   "metadata": {},
   "outputs": [],
   "source": [
    "info=my_loc.next_pass(my_sat)"
   ]
  },
  {
   "cell_type": "markdown",
   "metadata": {},
   "source": [
    "    AOS stands for Acquisition of Signal\n",
    "    TCA stands for Time of Closest Approach\n",
    "    LOS stands for Loss of Signal (or Satellite)\n",
    "    info []\n",
    "    0  Rise time\n",
    "    1  Rise azimuth\n",
    "    2  Maximum altitude time (TCA- time of closed approach)\n",
    "    3  Maximum altitude\n",
    "    4  Set time\n",
    "    5  Set azimuth\n",
    "    \n",
    " All PyEphem dates are expressed in Universal Time (UTC)"
   ]
  },
  {
   "cell_type": "code",
   "execution_count": 67,
   "metadata": {},
   "outputs": [
    {
     "name": "stdout",
     "output_type": "stream",
     "text": [
      "AOS: 2018/12/12 14:51:32 \n",
      "LOS: 2018/12/12 15:01:07 \n",
      "Maximum Altitude: 7:48:35.3 \n",
      "Maximum Altitude Time: 2018/12/12 14:56:20\n"
     ]
    }
   ],
   "source": [
    "\n",
    "print(\"AOS: %s \\nLOS: %s \\nMaximum Altitude: %s \\nMaximum Altitude Time: %s\" % (info[0], info[4], info[3], info[2]))"
   ]
  },
  {
   "cell_type": "markdown",
   "metadata": {},
   "source": [
    "Saved pass\n",
    "\n",
    "    AOS: 2018/10/19 06:34:18\n",
    "    \n",
    "    LOS: 2018/10/19 06:46:09 \n",
    "    \n",
    "    Maximum Altitude: 20:46:07.2 \n",
    "    \n",
    "    Maximum Altitude Time (TCA): 2018/10/19 06:40:12\n",
    "    "
   ]
  },
  {
   "cell_type": "code",
   "execution_count": 8,
   "metadata": {
    "scrolled": true
   },
   "outputs": [
    {
     "data": {
      "text/plain": [
       "(43443.91660355808,\n",
       " 4.95688533782959,\n",
       " 43443.92114076009,\n",
       " 1.382979393005371,\n",
       " 43443.92569235205,\n",
       " 1.8840051889419556)"
      ]
     },
     "execution_count": 8,
     "metadata": {},
     "output_type": "execute_result"
    }
   ],
   "source": [
    "info"
   ]
  },
  {
   "cell_type": "code",
   "execution_count": 9,
   "metadata": {},
   "outputs": [
    {
     "data": {
      "text/plain": [
       "ephem.Date"
      ]
     },
     "execution_count": 9,
     "metadata": {},
     "output_type": "execute_result"
    }
   ],
   "source": [
    "type(info[0])"
   ]
  },
  {
   "cell_type": "code",
   "execution_count": 10,
   "metadata": {},
   "outputs": [],
   "source": [
    "tca = info[4]"
   ]
  },
  {
   "cell_type": "code",
   "execution_count": 51,
   "metadata": {},
   "outputs": [
    {
     "name": "stdout",
     "output_type": "stream",
     "text": [
      "Range velocity: -4484.29833984375 \n"
     ]
    }
   ],
   "source": [
    "my_sat.compute(my_loc)\n",
    "print(\"Range velocity: %s \" % (my_sat.range_velocity))"
   ]
  },
  {
   "cell_type": "code",
   "execution_count": 68,
   "metadata": {},
   "outputs": [],
   "source": [
    "my_loc.date = ephem.Date(tca - (ephem.minute *6))\n",
    "#my_loc.date = info[0] + (ephem.minute *6)\n",
    "#my_loc.date=ephem.Date('2018/10/19 06:40:12')"
   ]
  },
  {
   "cell_type": "code",
   "execution_count": 69,
   "metadata": {},
   "outputs": [
    {
     "name": "stdout",
     "output_type": "stream",
     "text": [
      "Range velocity: 2638.900634765625 \n"
     ]
    }
   ],
   "source": [
    "my_sat.compute(my_loc)\n",
    "print(\"Range velocity: %s \" % (my_sat.range_velocity))"
   ]
  },
  {
   "cell_type": "code",
   "execution_count": 70,
   "metadata": {},
   "outputs": [],
   "source": [
    "d = ephem.Date('2018/10/19 06:40:12')\n",
    "nd = d + (ephem.minute * 3)"
   ]
  },
  {
   "cell_type": "code",
   "execution_count": 71,
   "metadata": {},
   "outputs": [
    {
     "name": "stdout",
     "output_type": "stream",
     "text": [
      "2018/10/19 06:43:12\n"
     ]
    }
   ],
   "source": [
    "print (ephem.Date(nd) )"
   ]
  },
  {
   "cell_type": "code",
   "execution_count": 16,
   "metadata": {},
   "outputs": [
    {
     "data": {
      "text/plain": [
       "datetime.datetime(2018, 10, 19, 14, 40, 12, 4)"
      ]
     },
     "execution_count": 16,
     "metadata": {},
     "output_type": "execute_result"
    }
   ],
   "source": [
    "ephem.localtime(d)"
   ]
  },
  {
   "cell_type": "code",
   "execution_count": 17,
   "metadata": {},
   "outputs": [],
   "source": [
    "aos = (ephem.Date(\"2018/10/19 04:52:24\") - ephem.minute* 10)"
   ]
  },
  {
   "cell_type": "code",
   "execution_count": 18,
   "metadata": {},
   "outputs": [
    {
     "name": "stdout",
     "output_type": "stream",
     "text": [
      "43390.69611111111\n"
     ]
    }
   ],
   "source": [
    "print(aos)"
   ]
  },
  {
   "cell_type": "code",
   "execution_count": 19,
   "metadata": {},
   "outputs": [],
   "source": [
    "my_loc.date = ephem.Date(aos)"
   ]
  },
  {
   "cell_type": "code",
   "execution_count": 20,
   "metadata": {},
   "outputs": [
    {
     "name": "stdout",
     "output_type": "stream",
     "text": [
      "2018/10/19 04:42:24\n"
     ]
    }
   ],
   "source": [
    "print (my_loc.date)"
   ]
  },
  {
   "cell_type": "code",
   "execution_count": 21,
   "metadata": {},
   "outputs": [],
   "source": [
    "my_loc.date = ephem.Date(\"2018/10/19 04:45:13\")"
   ]
  },
  {
   "cell_type": "code",
   "execution_count": 22,
   "metadata": {},
   "outputs": [
    {
     "name": "stdout",
     "output_type": "stream",
     "text": [
      "Range velocity: -6223.44287109375 \n"
     ]
    }
   ],
   "source": [
    "my_sat.compute(my_loc)\n",
    "print(\"Range velocity: %s \" % (my_sat.range_velocity))"
   ]
  },
  {
   "cell_type": "code",
   "execution_count": 23,
   "metadata": {},
   "outputs": [
    {
     "data": {
      "text/plain": [
       "5384.4335"
      ]
     },
     "execution_count": 23,
     "metadata": {},
     "output_type": "execute_result"
    }
   ],
   "source": [
    "my_sat.range /1000"
   ]
  },
  {
   "cell_type": "code",
   "execution_count": 24,
   "metadata": {},
   "outputs": [
    {
     "name": "stdout",
     "output_type": "stream",
     "text": [
      "-18:49:06.2\n"
     ]
    }
   ],
   "source": [
    "print (my_sat.alt)"
   ]
  },
  {
   "cell_type": "code",
   "execution_count": 92,
   "metadata": {},
   "outputs": [],
   "source": [
    "#for galassia\n",
    "start_time = ephem.Date('2018/10/19 04:53:01') +ephem.second * 75\n",
    "\n",
    "#for ISS\n",
    "#start_time = ephem.Date('2018/12/12 13:32:47') - ephem.second * 200"
   ]
  },
  {
   "cell_type": "code",
   "execution_count": 93,
   "metadata": {},
   "outputs": [],
   "source": [
    "v_list = []\n",
    "t_list = []\n",
    "alt_list = []\n",
    "for i in range (700):\n",
    "    d_time = ephem.Date(start_time + (ephem.second * i  ) )\n",
    "    my_loc.date = d_time\n",
    "    my_sat.compute(my_loc)\n",
    "    v_list.append(my_sat.range_velocity)\n",
    "    t_list.append(d_time)\n",
    "    alt_list.append(my_sat.alt) "
   ]
  },
  {
   "cell_type": "code",
   "execution_count": 94,
   "metadata": {},
   "outputs": [
    {
     "data": {
      "text/plain": [
       "1.1574074074074073e-05"
      ]
     },
     "execution_count": 94,
     "metadata": {},
     "output_type": "execute_result"
    }
   ],
   "source": [
    "ephem.second"
   ]
  },
  {
   "cell_type": "code",
   "execution_count": 95,
   "metadata": {},
   "outputs": [],
   "source": [
    "f = 1e9"
   ]
  },
  {
   "cell_type": "code",
   "execution_count": 96,
   "metadata": {},
   "outputs": [
    {
     "name": "stdout",
     "output_type": "stream",
     "text": [
      "21:29:19.8\n"
     ]
    }
   ],
   "source": [
    "print(alt_list[400])"
   ]
  },
  {
   "cell_type": "code",
   "execution_count": 97,
   "metadata": {},
   "outputs": [],
   "source": [
    "df_list = []\n",
    "nt_list = [(x - start_time)*24*60*60 for x in t_list]\n",
    "for dv in v_list:\n",
    "    df = -(dv /ephem.c) * f\n",
    "    df_list.append(df)"
   ]
  },
  {
   "cell_type": "code",
   "execution_count": 98,
   "metadata": {},
   "outputs": [
    {
     "data": {
      "image/png": "[encoded data removed]",
      "text/plain": [
       "<matplotlib.figure.Figure at 0x7f3b22b07908>"
      ]
     },
     "metadata": {
      "needs_background": "light"
     },
     "output_type": "display_data"
    }
   ],
   "source": [
    "plt.plot(nt_list,df_list, label=\"1GHz\")\n",
    "plt.title('Doppler shift of 1GHz clock')\n",
    "plt.xlabel(\"time (seconds)\")\n",
    "plt.ylabel('Frequency shift in Hz')\n",
    "plt.savefig(\"DopplerShift1GHz.png\") \n",
    "plt.show()"
   ]
  },
  {
   "cell_type": "code",
   "execution_count": null,
   "metadata": {},
   "outputs": [],
   "source": []
  },
  {
   "cell_type": "code",
   "execution_count": 99,
   "metadata": {},
   "outputs": [],
   "source": [
    "f45 = 4.5e6"
   ]
  },
  {
   "cell_type": "code",
   "execution_count": 117,
   "metadata": {},
   "outputs": [],
   "source": [
    "df45_list = []\n",
    "nt_list = [(x - start_time)*24*60*60 for x in t_list]\n",
    "for dv in v_list:\n",
    "    df = -(dv /ephem.c) * f45\n",
    "    df45_list.append(df)\n",
    "\n"
   ]
  },
  {
   "cell_type": "code",
   "execution_count": 101,
   "metadata": {},
   "outputs": [
    {
     "data": {
      "image/png": "[encoded data removed]",
      "text/plain": [
       "<matplotlib.figure.Figure at 0x7f3b22af01d0>"
      ]
     },
     "metadata": {
      "needs_background": "light"
     },
     "output_type": "display_data"
    }
   ],
   "source": [
    "plt.plot(nt_list,df45_list, label=\"4.5MHz\")\n",
    "plt.title('Doppler shift for 4.5MHz')\n",
    "plt.xlabel(\"time (seconds)\")\n",
    "plt.ylabel('Frequency shift in Hz')\n",
    "plt.savefig(\"DopplerShift45.png\") \n",
    "plt.show()"
   ]
  },
  {
   "cell_type": "code",
   "execution_count": 102,
   "metadata": {},
   "outputs": [
    {
     "data": {
      "text/plain": [
       "222.22222222222223"
      ]
     },
     "execution_count": 102,
     "metadata": {},
     "output_type": "execute_result"
    }
   ],
   "source": [
    "1e9 / 4.5e6"
   ]
  },
  {
   "cell_type": "code",
   "execution_count": 103,
   "metadata": {},
   "outputs": [],
   "source": [
    "f436 = 436.2e6\n",
    "df436_list = []\n",
    "#nt_list = [(x - start_time)*24*60*60 for x in t_list]\n",
    "for dv in v_list:\n",
    "    df = -(dv /ephem.c) * f436\n",
    "    df436_list.append(df)\n",
    "\n"
   ]
  },
  {
   "cell_type": "code",
   "execution_count": 104,
   "metadata": {},
   "outputs": [
    {
     "data": {
      "image/png": "[encoded data removed]",
      "text/plain": [
       "<matplotlib.figure.Figure at 0x7f3b22bd1e80>"
      ]
     },
     "metadata": {
      "needs_background": "light"
     },
     "output_type": "display_data"
    }
   ],
   "source": [
    "plt.plot(nt_list,df436_list, label=\"436.2MHz\")\n",
    "plt.title('Doppler shift for 436.2MHz')\n",
    "plt.xlabel(\"time (seconds)\")\n",
    "plt.ylabel('Frequency shift in Hz')\n",
    "plt.savefig(\"DopplerShift436.png\") \n",
    "plt.show()"
   ]
  },
  {
   "cell_type": "code",
   "execution_count": null,
   "metadata": {},
   "outputs": [],
   "source": []
  },
  {
   "cell_type": "code",
   "execution_count": 106,
   "metadata": {},
   "outputs": [],
   "source": [
    "name = \"ISS (ZARYA)\"             \n",
    "line1 =\"1 25544U 98067A   18345.71766725  .00004176  00000-0  70390-4 0  9993\"\n",
    "line2 = \"2 25544  51.6422 214.0093 0005343 137.0686 327.4053 15.54088385146122\"\n",
    "my_sat = ephem.readtle(name,line1,line2)"
   ]
  },
  {
   "cell_type": "code",
   "execution_count": 124,
   "metadata": {},
   "outputs": [],
   "source": [
    "#for ISS pass with max ElV: 78.63 degree \n",
    "start_time = ephem.Date('2018/12/12 13:32:47') - ephem.second * 75"
   ]
  },
  {
   "cell_type": "code",
   "execution_count": 125,
   "metadata": {},
   "outputs": [],
   "source": [
    "v_list = []\n",
    "t_list = []\n",
    "alt_list = []\n",
    "for i in range (700):\n",
    "    d_time = ephem.Date(start_time + (ephem.second * i  ) )\n",
    "    my_loc.date = d_time\n",
    "    my_sat.compute(my_loc)\n",
    "    v_list.append(my_sat.range_velocity)\n",
    "    t_list.append(d_time)\n",
    "    alt_list.append(my_sat.alt) "
   ]
  },
  {
   "cell_type": "code",
   "execution_count": 126,
   "metadata": {},
   "outputs": [],
   "source": [
    "f436 = 436.2e6\n",
    "df436_list = []\n",
    "nt_list = [(x - start_time)*24*60*60 for x in t_list]\n",
    "for dv in v_list:\n",
    "    df = -(dv /ephem.c) * f436\n",
    "    df436_list.append(df)\n"
   ]
  },
  {
   "cell_type": "code",
   "execution_count": 128,
   "metadata": {},
   "outputs": [
    {
     "data": {
      "image/png": "[encoded data removed]",
      "text/plain": [
       "<matplotlib.figure.Figure at 0x7f3b22a0f5c0>"
      ]
     },
     "metadata": {
      "needs_background": "light"
     },
     "output_type": "display_data"
    }
   ],
   "source": [
    "plt.plot(nt_list,df436_list, label=\"436.2MHz\")\n",
    "plt.title('Doppler shift for 436.2MHz (ISS pass 2018/12/12 13:32:47)')\n",
    "plt.xlabel(\"time (seconds)\")\n",
    "plt.ylabel('Frequency shift in Hz')\n",
    "plt.savefig(\"DopplerShiftISS436.png\") \n",
    "plt.show()"
   ]
  },
  {
   "cell_type": "code",
   "execution_count": null,
   "metadata": {},
   "outputs": [],
   "source": []
  },
  {
   "cell_type": "code",
   "execution_count": null,
   "metadata": {},
   "outputs": [],
   "source": []
  }
 ],
 "metadata": {
  "kernelspec": {
   "display_name": "Python 3",
   "language": "python",
   "name": "python3"
  },
  "language_info": {
   "codemirror_mode": {
    "name": "ipython",
    "version": 3
   },
   "file_extension": ".py",
   "mimetype": "text/x-python",
   "name": "python",
   "nbconvert_exporter": "python",
   "pygments_lexer": "ipython3",
   "version": "3.5.2"
  }
 },
 "nbformat": 4,
 "nbformat_minor": 1
}
