{
 "cells": [
  {
   "cell_type": "markdown",
   "metadata": {},
   "source": [
    "# time sync"
   ]
  },
  {
   "cell_type": "code",
   "execution_count": 208,
   "metadata": {},
   "outputs": [],
   "source": [
    "import ephem\n",
    "import matplotlib.pyplot as plt"
   ]
  },
  {
   "cell_type": "code",
   "execution_count": 209,
   "metadata": {},
   "outputs": [
    {
     "name": "stdout",
     "output_type": "stream",
     "text": [
      "5:35:45.28 23:32:54.1 5.6\n"
     ]
    }
   ],
   "source": [
    "u = ephem.Uranus()\n",
    "u.compute('1781/3/13') \n",
    "print('%s %s %s' % (u.ra, u.dec, u.mag))"
   ]
  },
  {
   "cell_type": "code",
   "execution_count": 210,
   "metadata": {},
   "outputs": [
    {
     "name": "stdout",
     "output_type": "stream",
     "text": [
      "('Tau', 'Taurus')\n"
     ]
    }
   ],
   "source": [
    "print(ephem.constellation(u))"
   ]
  },
  {
   "cell_type": "markdown",
   "metadata": {},
   "source": [
    "TLE from norad \n",
    "\n",
    "    GALASSIA                \n",
    "    1 41170U 15077E   18291.47886069  .00002035  00000-0  73075-4 0  9998\n",
    "    2 41170  14.9881 191.7979 0013088 334.9563  25.0122 15.13422614157130\n",
    "    \n",
    "    NUS observation locatoin\n",
    "    1.2954752,103.7800079"
   ]
  },
  {
   "cell_type": "code",
   "execution_count": 211,
   "metadata": {},
   "outputs": [],
   "source": [
    "my_loc = ephem.Observer()\n",
    "my_loc.lat = '1.2954752'\n",
    "my_loc.lon = '103.7800079'\n",
    "my_loc.elevation = 100"
   ]
  },
  {
   "cell_type": "code",
   "execution_count": 212,
   "metadata": {},
   "outputs": [],
   "source": [
    "name = 'GALASSIA'\n",
    "line1 = '1 41170U 15077E   18291.47886069  .00002035  00000-0  73075-4 0  9998'\n",
    "line2 = '2 41170  14.9881 191.7979 0013088 334.9563  25.0122 15.13422614157130'\n",
    "my_sat = ephem.readtle(name,line1,line2)"
   ]
  },
  {
   "cell_type": "code",
   "execution_count": 213,
   "metadata": {},
   "outputs": [],
   "source": [
    "info=my_loc.next_pass(my_sat)"
   ]
  },
  {
   "cell_type": "markdown",
   "metadata": {},
   "source": [
    "    AOS stands for Acquisition of Signal\n",
    "    TCA stands for Time of Closest Approach\n",
    "    LOS stands for Loss of Signal (or Satellite)\n",
    "    info []\n",
    "    0  Rise time\n",
    "    1  Rise azimuth\n",
    "    2  Maximum altitude time (TCA- time of closed approach)\n",
    "    3  Maximum altitude\n",
    "    4  Set time\n",
    "    5  Set azimuth\n",
    "    \n",
    " All PyEphem dates are expressed in Universal Time (UTC)"
   ]
  },
  {
   "cell_type": "code",
   "execution_count": 214,
   "metadata": {},
   "outputs": [
    {
     "name": "stdout",
     "output_type": "stream",
     "text": [
      "AOS: 2018/11/27 08:30:02 \n",
      "LOS: 2018/11/27 08:42:18 \n",
      "Maximum Altitude: 25:12:03.9 \n",
      "Maximum Altitude Time: 2018/11/27 08:36:11\n"
     ]
    }
   ],
   "source": [
    "\n",
    "print(\"AOS: %s \\nLOS: %s \\nMaximum Altitude: %s \\nMaximum Altitude Time: %s\" % (info[0], info[4], info[3], info[2]))"
   ]
  },
  {
   "cell_type": "markdown",
   "metadata": {},
   "source": [
    "Saved pass\n",
    "\n",
    "    AOS: 2018/10/19 06:34:18\n",
    "    \n",
    "    LOS: 2018/10/19 06:46:09 \n",
    "    \n",
    "    Maximum Altitude: 20:46:07.2 \n",
    "    \n",
    "    Maximum Altitude Time (TCA): 2018/10/19 06:40:12\n",
    "    "
   ]
  },
  {
   "cell_type": "code",
   "execution_count": 215,
   "metadata": {
    "scrolled": true
   },
   "outputs": [
    {
     "data": {
      "text/plain": [
       "(43429.85419149444,\n",
       " 4.829663276672363,\n",
       " 43429.85846389952,\n",
       " 0.4398420453071594,\n",
       " 43429.86271308249,\n",
       " 1.0150747299194336)"
      ]
     },
     "execution_count": 215,
     "metadata": {},
     "output_type": "execute_result"
    }
   ],
   "source": [
    "info"
   ]
  },
  {
   "cell_type": "code",
   "execution_count": 216,
   "metadata": {},
   "outputs": [
    {
     "data": {
      "text/plain": [
       "ephem.Date"
      ]
     },
     "execution_count": 216,
     "metadata": {},
     "output_type": "execute_result"
    }
   ],
   "source": [
    "type(info[0])"
   ]
  },
  {
   "cell_type": "code",
   "execution_count": 217,
   "metadata": {},
   "outputs": [],
   "source": [
    "tca = info[4]"
   ]
  },
  {
   "cell_type": "code",
   "execution_count": 218,
   "metadata": {},
   "outputs": [
    {
     "name": "stdout",
     "output_type": "stream",
     "text": [
      "Range velocity: -3465.296630859375 \n"
     ]
    }
   ],
   "source": [
    "my_sat.compute(my_loc)\n",
    "print(\"Range velocity: %s \" % (my_sat.range_velocity))"
   ]
  },
  {
   "cell_type": "code",
   "execution_count": 219,
   "metadata": {},
   "outputs": [],
   "source": [
    "my_loc.date = ephem.Date(tca - (ephem.minute *6))\n",
    "#my_loc.date = info[0] + (ephem.minute *6)\n",
    "#my_loc.date=ephem.Date('2018/10/19 06:40:12')"
   ]
  },
  {
   "cell_type": "code",
   "execution_count": 220,
   "metadata": {},
   "outputs": [
    {
     "name": "stdout",
     "output_type": "stream",
     "text": [
      "Range velocity: 288.9031677246094 \n"
     ]
    }
   ],
   "source": [
    "my_sat.compute(my_loc)\n",
    "print(\"Range velocity: %s \" % (my_sat.range_velocity))"
   ]
  },
  {
   "cell_type": "code",
   "execution_count": 221,
   "metadata": {},
   "outputs": [],
   "source": [
    "d = ephem.Date('2018/10/19 06:40:12')\n",
    "nd = d + (ephem.minute * 3)"
   ]
  },
  {
   "cell_type": "code",
   "execution_count": 222,
   "metadata": {},
   "outputs": [
    {
     "name": "stdout",
     "output_type": "stream",
     "text": [
      "2018/10/19 06:43:12\n"
     ]
    }
   ],
   "source": [
    "print (ephem.Date(nd) )"
   ]
  },
  {
   "cell_type": "code",
   "execution_count": 223,
   "metadata": {},
   "outputs": [
    {
     "data": {
      "text/plain": [
       "datetime.datetime(2018, 10, 19, 14, 40, 12, 4)"
      ]
     },
     "execution_count": 223,
     "metadata": {},
     "output_type": "execute_result"
    }
   ],
   "source": [
    "ephem.localtime(d)"
   ]
  },
  {
   "cell_type": "code",
   "execution_count": 224,
   "metadata": {},
   "outputs": [],
   "source": [
    "aos = (ephem.Date(\"2018/10/19 04:52:24\") - ephem.minute* 10)"
   ]
  },
  {
   "cell_type": "code",
   "execution_count": 225,
   "metadata": {},
   "outputs": [
    {
     "name": "stdout",
     "output_type": "stream",
     "text": [
      "43390.69611111111\n"
     ]
    }
   ],
   "source": [
    "print(aos)"
   ]
  },
  {
   "cell_type": "code",
   "execution_count": 226,
   "metadata": {},
   "outputs": [],
   "source": [
    "my_loc.date = ephem.Date(aos)"
   ]
  },
  {
   "cell_type": "code",
   "execution_count": 227,
   "metadata": {},
   "outputs": [
    {
     "name": "stdout",
     "output_type": "stream",
     "text": [
      "2018/10/19 04:42:24\n"
     ]
    }
   ],
   "source": [
    "print (my_loc.date)"
   ]
  },
  {
   "cell_type": "code",
   "execution_count": 228,
   "metadata": {},
   "outputs": [],
   "source": [
    "my_loc.date = ephem.Date(\"2018/10/19 04:45:13\")"
   ]
  },
  {
   "cell_type": "code",
   "execution_count": 229,
   "metadata": {},
   "outputs": [
    {
     "name": "stdout",
     "output_type": "stream",
     "text": [
      "Range velocity: -6223.44287109375 \n"
     ]
    }
   ],
   "source": [
    "my_sat.compute(my_loc)\n",
    "print(\"Range velocity: %s \" % (my_sat.range_velocity))"
   ]
  },
  {
   "cell_type": "code",
   "execution_count": 230,
   "metadata": {},
   "outputs": [
    {
     "data": {
      "text/plain": [
       "5384.4335"
      ]
     },
     "execution_count": 230,
     "metadata": {},
     "output_type": "execute_result"
    }
   ],
   "source": [
    "my_sat.range /1000"
   ]
  },
  {
   "cell_type": "code",
   "execution_count": 231,
   "metadata": {},
   "outputs": [
    {
     "name": "stdout",
     "output_type": "stream",
     "text": [
      "-18:49:06.2\n"
     ]
    }
   ],
   "source": [
    "print (my_sat.alt)"
   ]
  },
  {
   "cell_type": "code",
   "execution_count": 232,
   "metadata": {},
   "outputs": [],
   "source": [
    "start_time = ephem.Date('2018/10/19 04:53:01') +ephem.second * 75"
   ]
  },
  {
   "cell_type": "code",
   "execution_count": 233,
   "metadata": {},
   "outputs": [],
   "source": [
    "v_list = []\n",
    "t_list = []\n",
    "alt_list = []\n",
    "for i in range (700):\n",
    "    d_time = ephem.Date(start_time + (ephem.second * i  ) )\n",
    "    my_loc.date = d_time\n",
    "    my_sat.compute(my_loc)\n",
    "    v_list.append(my_sat.range_velocity)\n",
    "    t_list.append(d_time)\n",
    "    alt_list.append(my_sat.alt) "
   ]
  },
  {
   "cell_type": "code",
   "execution_count": 234,
   "metadata": {},
   "outputs": [
    {
     "data": {
      "text/plain": [
       "1.1574074074074073e-05"
      ]
     },
     "execution_count": 234,
     "metadata": {},
     "output_type": "execute_result"
    }
   ],
   "source": [
    "ephem.second"
   ]
  },
  {
   "cell_type": "code",
   "execution_count": 235,
   "metadata": {},
   "outputs": [],
   "source": [
    "f = 1e9"
   ]
  },
  {
   "cell_type": "code",
   "execution_count": 236,
   "metadata": {},
   "outputs": [
    {
     "name": "stdout",
     "output_type": "stream",
     "text": [
      "21:29:19.8\n"
     ]
    }
   ],
   "source": [
    "print(alt_list[400])"
   ]
  },
  {
   "cell_type": "code",
   "execution_count": 237,
   "metadata": {},
   "outputs": [],
   "source": [
    "df_list = []\n",
    "nt_list = [(x - start_time)*24*60*60 for x in t_list]\n",
    "for dv in v_list:\n",
    "    df = -(dv /ephem.c) * f\n",
    "    df_list.append(df)"
   ]
  },
  {
   "cell_type": "code",
   "execution_count": 238,
   "metadata": {},
   "outputs": [
    {
     "data": {
      "image/png": "[encoded data removed]",
      "text/plain": [
       "<matplotlib.figure.Figure at 0x7f9f31ec7978>"
      ]
     },
     "metadata": {
      "needs_background": "light"
     },
     "output_type": "display_data"
    }
   ],
   "source": [
    "plt.plot(nt_list,df_list, label=\"1GHz\")\n",
    "plt.title('Doppler shift of 1GHz clock')\n",
    "plt.xlabel(\"time (seconds)\")\n",
    "plt.ylabel('Frequency shift in Hz')\n",
    "plt.savefig(\"DopplerShift1GHz.png\") \n",
    "plt.show()"
   ]
  },
  {
   "cell_type": "code",
   "execution_count": null,
   "metadata": {},
   "outputs": [],
   "source": []
  },
  {
   "cell_type": "code",
   "execution_count": 239,
   "metadata": {},
   "outputs": [],
   "source": [
    "f45 = 4.5e6"
   ]
  },
  {
   "cell_type": "code",
   "execution_count": 240,
   "metadata": {},
   "outputs": [
    {
     "data": {
      "text/plain": [
       "[<matplotlib.lines.Line2D at 0x7f9f31e47978>]"
      ]
     },
     "execution_count": 240,
     "metadata": {},
     "output_type": "execute_result"
    },
    {
     "data": {
      "image/png": "[encoded data removed]",
      "text/plain": [
       "<matplotlib.figure.Figure at 0x7f9f31d4f780>"
      ]
     },
     "metadata": {
      "needs_background": "light"
     },
     "output_type": "display_data"
    }
   ],
   "source": [
    "df45_list = []\n",
    "#nt_list = [(x - start_time)*24*60*60 for x in t_list]\n",
    "for dv in v_list:\n",
    "    df = -(dv /ephem.c) * f45\n",
    "    df45_list.append(df)\n",
    "\n",
    "plt.plot(nt_list,df45_list, label=\"4.5MHz\")"
   ]
  },
  {
   "cell_type": "code",
   "execution_count": 241,
   "metadata": {},
   "outputs": [
    {
     "data": {
      "image/png": "[encoded data removed]",
      "text/plain": [
       "<matplotlib.figure.Figure at 0x7f9f31f06f28>"
      ]
     },
     "metadata": {
      "needs_background": "light"
     },
     "output_type": "display_data"
    }
   ],
   "source": [
    "plt.title('Doppler shift for 4.5MHz clock')\n",
    "plt.xlabel(\"time (seconds)\")\n",
    "plt.ylabel('Frequency shift in Hz')\n",
    "plt.savefig(\"DopplerShift45.png\") \n",
    "plt.show()"
   ]
  },
  {
   "cell_type": "code",
   "execution_count": 242,
   "metadata": {},
   "outputs": [
    {
     "data": {
      "text/plain": [
       "222.22222222222223"
      ]
     },
     "execution_count": 242,
     "metadata": {},
     "output_type": "execute_result"
    }
   ],
   "source": [
    "1e9 / 4.5e6"
   ]
  },
  {
   "cell_type": "code",
   "execution_count": null,
   "metadata": {},
   "outputs": [],
   "source": []
  }
 ],
 "metadata": {
  "kernelspec": {
   "display_name": "Python 3",
   "language": "python",
   "name": "python3"
  },
  "language_info": {
   "codemirror_mode": {
    "name": "ipython",
    "version": 3
   },
   "file_extension": ".py",
   "mimetype": "text/x-python",
   "name": "python",
   "nbconvert_exporter": "python",
   "pygments_lexer": "ipython3",
   "version": "3.5.2"
  }
 },
 "nbformat": 4,
 "nbformat_minor": 1
}
