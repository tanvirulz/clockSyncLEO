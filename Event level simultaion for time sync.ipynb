{
 "cells": [
  {
   "cell_type": "code",
   "execution_count": 1,
   "metadata": {},
   "outputs": [],
   "source": [
    "import ephem\n",
    "import matplotlib.pyplot as plt\n",
    "import random\n",
    "import numpy as np\n",
    "random.seed()\n",
    "import scipy.io\n",
    "\n"
   ]
  },
  {
   "cell_type": "code",
   "execution_count": 2,
   "metadata": {},
   "outputs": [],
   "source": [
    "#detection_effeciency = 0.25"
   ]
  },
  {
   "cell_type": "code",
   "execution_count": 3,
   "metadata": {},
   "outputs": [
    {
     "data": {
      "text/plain": [
       "'\\ncreated_pair_events = []\\nPAIR_EVENT_COUNT = 16e6\\nevent_rate = 16e6 # the lambda\\nfor i in range (int(PAIR_EVENT_COUNT) ):\\n    created_pair_events.append( random.expovariate(event_rate) )\\n'"
      ]
     },
     "execution_count": 3,
     "metadata": {},
     "output_type": "execute_result"
    }
   ],
   "source": [
    "'''\n",
    "created_pair_events = []\n",
    "PAIR_EVENT_COUNT = 16e6\n",
    "event_rate = 16e6 # the lambda\n",
    "for i in range (int(PAIR_EVENT_COUNT) ):\n",
    "    created_pair_events.append( random.expovariate(event_rate) )\n",
    "'''"
   ]
  },
  {
   "cell_type": "code",
   "execution_count": null,
   "metadata": {},
   "outputs": [],
   "source": []
  },
  {
   "cell_type": "code",
   "execution_count": 4,
   "metadata": {},
   "outputs": [],
   "source": [
    "#sum(created_pair_events)"
   ]
  },
  {
   "cell_type": "code",
   "execution_count": 5,
   "metadata": {},
   "outputs": [],
   "source": [
    "#created_pair_events[:10]"
   ]
  },
  {
   "cell_type": "code",
   "execution_count": 6,
   "metadata": {},
   "outputs": [],
   "source": [
    "#time_series_pair_events = np.cumsum(created_pair_events)\n",
    "\n"
   ]
  },
  {
   "cell_type": "code",
   "execution_count": 7,
   "metadata": {},
   "outputs": [],
   "source": [
    "def lossy_channel(events_list,transmission_factor):\n",
    "    channel_effeciency = transmission_factor\n",
    "    r = []\n",
    "    for event in events_list:\n",
    "        if random.random() < channel_effeciency:\n",
    "            r.append(event)\n",
    "    return r\n"
   ]
  },
  {
   "cell_type": "code",
   "execution_count": 8,
   "metadata": {},
   "outputs": [],
   "source": [
    "def detect_event(input_events_list, detection_effeciency):\n",
    "    return lossy_channel(input_events_list,detection_effeciency)\n"
   ]
  },
  {
   "cell_type": "code",
   "execution_count": 9,
   "metadata": {},
   "outputs": [],
   "source": [
    "#signal_singles = detect_event(time_series_pair_events,detection_effeciency)\n",
    "#idler_singles =  detect_event(time_series_pair_events,detection_effeciency)"
   ]
  },
  {
   "cell_type": "code",
   "execution_count": 10,
   "metadata": {},
   "outputs": [],
   "source": [
    "#ss_Set = set(signal_singles)\n",
    "#is_Set = set(idler_singles)"
   ]
  },
  {
   "cell_type": "code",
   "execution_count": 11,
   "metadata": {},
   "outputs": [],
   "source": [
    "#coincidence = ss_Set.intersection(is_Set)"
   ]
  },
  {
   "cell_type": "code",
   "execution_count": 12,
   "metadata": {},
   "outputs": [],
   "source": [
    "def _data_extractor(filename):\n",
    "    \"\"\"Reads raw timestamp into time and patterns vectors\n",
    "\n",
    "    :param filename: a python file object open in binary mode\n",
    "    :type filename: _io.BufferedReader\n",
    "    :returns: Two vectors: timestamps, corresponding pattern\n",
    "    :rtype: {numpy.ndarray(float), numpy.ndarray(uint32)}\n",
    "    \"\"\"\n",
    "    with open(filename, 'rb') as f:\n",
    "        data = np.fromfile(file=f, dtype='=I').reshape(-1, 2)\n",
    "        # cast to uint64!!!\n",
    "        t = ((np.uint64(data[:, 0]) << 17) + (data[:, 1] >> 15)) / 8. # time in nanoseconds. \n",
    "        #t = ((np.uint64(data[:, 0]) << 17) + (data[:, 1] >> 15)) \n",
    "        p = data[:, 1] & 0xf\n",
    "        return t, p\n"
   ]
  },
  {
   "cell_type": "code",
   "execution_count": 13,
   "metadata": {},
   "outputs": [],
   "source": [
    "#file =\"/home/odin/work/gProj/clockSyncLEO/TimeStampData/13Nov18/10KM_2018-06-20T17-33-20-224820.txt\"\n",
    "file =\"/home/odin/work/gProj/clockSyncLEO/TimeStampData/12Dec18/chitra/new.dat\""
   ]
  },
  {
   "cell_type": "code",
   "execution_count": 14,
   "metadata": {},
   "outputs": [],
   "source": [
    "t,p = _data_extractor(file)"
   ]
  },
  {
   "cell_type": "code",
   "execution_count": 15,
   "metadata": {},
   "outputs": [
    {
     "data": {
      "text/plain": [
       "array([1.27071612e+06, 1.27089800e+06, 1.27551550e+06, ...,\n",
       "       1.05156177e+11, 1.05156178e+11, 1.05156178e+11])"
      ]
     },
     "execution_count": 15,
     "metadata": {},
     "output_type": "execute_result"
    }
   ],
   "source": [
    "t"
   ]
  },
  {
   "cell_type": "code",
   "execution_count": 16,
   "metadata": {},
   "outputs": [
    {
     "data": {
      "text/plain": [
       "array([2, 1, 2, ..., 1, 2, 1], dtype=uint32)"
      ]
     },
     "execution_count": 16,
     "metadata": {},
     "output_type": "execute_result"
    }
   ],
   "source": [
    "p"
   ]
  },
  {
   "cell_type": "code",
   "execution_count": 17,
   "metadata": {},
   "outputs": [],
   "source": [
    "alice_filter = np.bitwise_and(p,2) == 2"
   ]
  },
  {
   "cell_type": "code",
   "execution_count": 18,
   "metadata": {},
   "outputs": [],
   "source": [
    "A_event = np.extract(alice_filter, t)"
   ]
  },
  {
   "cell_type": "code",
   "execution_count": 19,
   "metadata": {},
   "outputs": [
    {
     "data": {
      "text/plain": [
       "40057124"
      ]
     },
     "execution_count": 19,
     "metadata": {},
     "output_type": "execute_result"
    }
   ],
   "source": [
    "len(A_event)"
   ]
  },
  {
   "cell_type": "code",
   "execution_count": 20,
   "metadata": {},
   "outputs": [],
   "source": [
    "unique, counts = np.unique(p, return_counts=True)\n",
    "d= dict(zip(unique, counts))"
   ]
  },
  {
   "cell_type": "code",
   "execution_count": 21,
   "metadata": {},
   "outputs": [
    {
     "data": {
      "text/plain": [
       "{0: 1, 1: 40715990, 2: 39863290, 3: 193833, 9: 5, 10: 1}"
      ]
     },
     "execution_count": 21,
     "metadata": {},
     "output_type": "execute_result"
    }
   ],
   "source": [
    "d"
   ]
  },
  {
   "cell_type": "code",
   "execution_count": 22,
   "metadata": {},
   "outputs": [
    {
     "data": {
      "text/plain": [
       "0.001175618375"
      ]
     },
     "execution_count": 22,
     "metadata": {},
     "output_type": "execute_result"
    }
   ],
   "source": [
    "t[0] * 1e-9"
   ]
  },
  {
   "cell_type": "code",
   "execution_count": 23,
   "metadata": {},
   "outputs": [
    {
     "data": {
      "text/plain": [
       "0.001177544"
      ]
     },
     "execution_count": 23,
     "metadata": {},
     "output_type": "execute_result"
    }
   ],
   "source": [
    "t[1] * 1e-9"
   ]
  },
  {
   "cell_type": "code",
   "execution_count": 24,
   "metadata": {},
   "outputs": [],
   "source": [
    "bob_filter = np.bitwise_and(p,1) == 1"
   ]
  },
  {
   "cell_type": "code",
   "execution_count": 25,
   "metadata": {},
   "outputs": [],
   "source": [
    "B_event = np.extract(bob_filter,t)"
   ]
  },
  {
   "cell_type": "code",
   "execution_count": 26,
   "metadata": {},
   "outputs": [
    {
     "data": {
      "text/plain": [
       "0"
      ]
     },
     "execution_count": 26,
     "metadata": {},
     "output_type": "execute_result"
    }
   ],
   "source": [
    "len(B_event)"
   ]
  },
  {
   "cell_type": "code",
   "execution_count": 133,
   "metadata": {},
   "outputs": [],
   "source": [
    "my_loc = ephem.Observer()\n",
    "my_loc.lat = '1.2954752'\n",
    "my_loc.lon = '103.7800079'\n",
    "my_loc.elevation = 100"
   ]
  },
  {
   "cell_type": "code",
   "execution_count": 134,
   "metadata": {},
   "outputs": [],
   "source": [
    "name = 'GALASSIA'\n",
    "line1 = '1 41170U 15077E   18291.47886069  .00002035  00000-0  73075-4 0  9998'\n",
    "line2 = '2 41170  14.9881 191.7979 0013088 334.9563  25.0122 15.13422614157130'\n",
    "my_sat = ephem.readtle(name,line1,line2)"
   ]
  },
  {
   "cell_type": "code",
   "execution_count": 135,
   "metadata": {},
   "outputs": [],
   "source": [
    "info=my_loc.next_pass(my_sat)"
   ]
  },
  {
   "cell_type": "code",
   "execution_count": 136,
   "metadata": {},
   "outputs": [
    {
     "data": {
      "text/plain": [
       "(43437.91073431978,\n",
       " 5.334389686584473,\n",
       " 43437.914793326614,\n",
       " 0.30714190006256104,\n",
       " 43437.9188395008,\n",
       " 1.2820491790771484)"
      ]
     },
     "execution_count": 136,
     "metadata": {},
     "output_type": "execute_result"
    }
   ],
   "source": [
    "info"
   ]
  },
  {
   "cell_type": "code",
   "execution_count": 137,
   "metadata": {},
   "outputs": [
    {
     "data": {
      "text/plain": [
       "1.1574074074074073e-05"
      ]
     },
     "execution_count": 137,
     "metadata": {},
     "output_type": "execute_result"
    }
   ],
   "source": [
    "ephem.second"
   ]
  },
  {
   "cell_type": "code",
   "execution_count": 138,
   "metadata": {},
   "outputs": [
    {
     "data": {
      "text/plain": [
       "299792458.0"
      ]
     },
     "execution_count": 138,
     "metadata": {},
     "output_type": "execute_result"
    }
   ],
   "source": [
    "ephem.c"
   ]
  },
  {
   "cell_type": "code",
   "execution_count": 139,
   "metadata": {},
   "outputs": [],
   "source": [
    "start_time = ephem.Date('2018/10/19 04:53:01') +ephem.second * 175"
   ]
  },
  {
   "cell_type": "code",
   "execution_count": 140,
   "metadata": {},
   "outputs": [],
   "source": [
    "r_list = [] # range list\n",
    "t_list = []\n",
    "\n",
    "for t in B_event:\n",
    "    ts = t * 1e-9\n",
    "    d_time = ephem.Date(start_time + (ephem.second * ts  ) )\n",
    "    my_loc.date = d_time\n",
    "    my_sat.compute(my_loc)\n",
    "    \n",
    "    r_list.append(my_sat.range)\n",
    "    t_list.append(d_time)\n",
    "    "
   ]
  },
  {
   "cell_type": "code",
   "execution_count": 141,
   "metadata": {},
   "outputs": [
    {
     "data": {
      "text/plain": [
       "4635860"
      ]
     },
     "execution_count": 141,
     "metadata": {},
     "output_type": "execute_result"
    }
   ],
   "source": [
    "len(r_list)"
   ]
  },
  {
   "cell_type": "code",
   "execution_count": 142,
   "metadata": {},
   "outputs": [],
   "source": [
    "r_list_10km_removed = [x-10e3 for x in r_list]"
   ]
  },
  {
   "cell_type": "code",
   "execution_count": 143,
   "metadata": {},
   "outputs": [
    {
     "data": {
      "text/plain": [
       "1271468.625"
      ]
     },
     "execution_count": 143,
     "metadata": {},
     "output_type": "execute_result"
    }
   ],
   "source": [
    "r_list_10km_removed[0]"
   ]
  },
  {
   "cell_type": "code",
   "execution_count": 144,
   "metadata": {},
   "outputs": [
    {
     "data": {
      "text/plain": [
       "1281468.625"
      ]
     },
     "execution_count": 144,
     "metadata": {},
     "output_type": "execute_result"
    }
   ],
   "source": [
    "r_list[0]"
   ]
  },
  {
   "cell_type": "code",
   "execution_count": 145,
   "metadata": {},
   "outputs": [],
   "source": [
    "t_delta_list = [(x / ephem.c)*1e9 for x in r_list_10km_removed]"
   ]
  },
  {
   "cell_type": "code",
   "execution_count": 146,
   "metadata": {},
   "outputs": [
    {
     "data": {
      "text/plain": [
       "4241162.8147096345"
      ]
     },
     "execution_count": 146,
     "metadata": {},
     "output_type": "execute_result"
    }
   ],
   "source": [
    "t_delta_list[0]"
   ]
  },
  {
   "cell_type": "code",
   "execution_count": 147,
   "metadata": {},
   "outputs": [],
   "source": [
    "B_event_doppler_shifted_no_loss = [x+y for (x,y) in zip(t_delta_list,B_event)]"
   ]
  },
  {
   "cell_type": "code",
   "execution_count": 148,
   "metadata": {},
   "outputs": [],
   "source": [
    "np.savetxt(\"Bob_no_channel_loss_with_doppler.csv\", B_event_doppler_shifted_no_loss, delimiter=\",\")"
   ]
  },
  {
   "cell_type": "code",
   "execution_count": 149,
   "metadata": {},
   "outputs": [],
   "source": [
    "scipy.io.savemat('Bob_no_channel_loss_with_doppler.mat', mdict={'BobTimestamps': B_event_doppler_shifted_no_loss})"
   ]
  },
  {
   "cell_type": "code",
   "execution_count": 150,
   "metadata": {},
   "outputs": [],
   "source": [
    "scipy.io.savemat('Alice_timestamps.mat', mdict={'AliceTimestamps': A_event})"
   ]
  },
  {
   "cell_type": "code",
   "execution_count": 151,
   "metadata": {},
   "outputs": [],
   "source": [
    "Bob_event_doppler_30db = lossy_channel(B_event_doppler_shifted_no_loss, 0.001) # 30dB loss"
   ]
  },
  {
   "cell_type": "code",
   "execution_count": 152,
   "metadata": {},
   "outputs": [],
   "source": [
    "Bob_event_doppler_40db = lossy_channel(B_event_doppler_shifted_no_loss, 0.0001) # 30dB loss"
   ]
  },
  {
   "cell_type": "code",
   "execution_count": 153,
   "metadata": {},
   "outputs": [],
   "source": [
    "scipy.io.savemat('Bob_30dB_channel_loss_with_doppler.mat', mdict={'BobTimestamps30dBLoss': Bob_event_doppler_30db})"
   ]
  },
  {
   "cell_type": "code",
   "execution_count": 154,
   "metadata": {},
   "outputs": [],
   "source": [
    "scipy.io.savemat('Bob_40dB_channel_loss_with_doppler.mat', mdict={'BobTimestamps40dBLoss': Bob_event_doppler_40db})"
   ]
  },
  {
   "cell_type": "code",
   "execution_count": 155,
   "metadata": {},
   "outputs": [],
   "source": [
    "scipy.io.savemat('Bob_timestamps_No_Doppler_0dB.mat', mdict={'BobTimestampsnoDoppler': B_event})"
   ]
  },
  {
   "cell_type": "code",
   "execution_count": 156,
   "metadata": {},
   "outputs": [
    {
     "data": {
      "text/plain": [
       "4773"
      ]
     },
     "execution_count": 156,
     "metadata": {},
     "output_type": "execute_result"
    }
   ],
   "source": [
    "len(Bob_event_doppler_30db)"
   ]
  },
  {
   "cell_type": "code",
   "execution_count": 157,
   "metadata": {},
   "outputs": [
    {
     "data": {
      "text/plain": [
       "481"
      ]
     },
     "execution_count": 157,
     "metadata": {},
     "output_type": "execute_result"
    }
   ],
   "source": [
    "len(Bob_event_doppler_40db)"
   ]
  },
  {
   "cell_type": "code",
   "execution_count": 158,
   "metadata": {},
   "outputs": [],
   "source": [
    "nt_list = [(x - start_time)*24*60*60 for x in t_list]\n",
    "rkm_list = [x/1000 for x in r_list] "
   ]
  },
  {
   "cell_type": "code",
   "execution_count": 159,
   "metadata": {},
   "outputs": [
    {
     "data": {
      "image/png": "[encoded data removed]",
      "text/plain": [
       "<matplotlib.figure.Figure at 0x7fcadb894f98>"
      ]
     },
     "metadata": {
      "needs_background": "light"
     },
     "output_type": "display_data"
    }
   ],
   "source": [
    "plt.plot(nt_list,rkm_list, label=\"GALASSIA\")\n",
    "plt.title('satellite range')\n",
    "plt.xlabel(\"time (seconds)\")\n",
    "plt.ylabel('range in km')\n",
    "plt.savefig(\"range.png\") \n",
    "plt.show()"
   ]
  },
  {
   "cell_type": "code",
   "execution_count": null,
   "metadata": {},
   "outputs": [],
   "source": []
  }
 ],
 "metadata": {
  "kernelspec": {
   "display_name": "Python 3",
   "language": "python",
   "name": "python3"
  },
  "language_info": {
   "codemirror_mode": {
    "name": "ipython",
    "version": 3
   },
   "file_extension": ".py",
   "mimetype": "text/x-python",
   "name": "python",
   "nbconvert_exporter": "python",
   "pygments_lexer": "ipython3",
   "version": "3.5.2"
  }
 },
 "nbformat": 4,
 "nbformat_minor": 1
}
