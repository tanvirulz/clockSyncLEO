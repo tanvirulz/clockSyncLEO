{
 "cells": [
  {
   "cell_type": "markdown",
   "metadata": {},
   "source": [
    "# Here I experiment with codes that will be used in the main software"
   ]
  },
  {
   "cell_type": "code",
   "execution_count": 2,
   "metadata": {},
   "outputs": [],
   "source": [
    "import numpy as np"
   ]
  },
  {
   "cell_type": "code",
   "execution_count": 112,
   "metadata": {},
   "outputs": [],
   "source": [
    "#file =\"/home/odin/work/gProj/clockSyncLEO/TimeStampData/13Nov18/10KM_2018-06-20T17-33-20-224820.txt\"\n",
    "#10KM_2018-06-20T17-48-20-224822\n",
    "file =\"/home/odin/work/gProj/clockSyncLEO/TimeStampData/13Nov18/10KM_2018-06-20T17-48-20-224822.txt\"\n",
    "raw_data  = np.fromfile(file, dtype='uint8')\n"
   ]
  },
  {
   "cell_type": "code",
   "execution_count": 113,
   "metadata": {},
   "outputs": [
    {
     "name": "stdout",
     "output_type": "stream",
     "text": [
      "bytes loaded: 86900736\n"
     ]
    }
   ],
   "source": [
    "print(\"bytes loaded: {0}\".format(len(raw_data)))\n",
    "raw_data = raw_data[24:]\n",
    "bin_data = raw_data.reshape(int(raw_data.shape[0]/(8)),8)"
   ]
  },
  {
   "cell_type": "code",
   "execution_count": 114,
   "metadata": {},
   "outputs": [
    {
     "name": "stdout",
     "output_type": "stream",
     "text": [
      "Number of events: 10862589\n"
     ]
    }
   ],
   "source": [
    "print(\"Number of events: {0}\".format(bin_data.shape[0]) )"
   ]
  },
  {
   "cell_type": "code",
   "execution_count": 115,
   "metadata": {},
   "outputs": [
    {
     "data": {
      "text/plain": [
       "array([[159,   0,   0,   0,  50,  23, 207, 190],\n",
       "       [161,   0,   0,   0, 130, 137, 131,  53],\n",
       "       [163,   0,   0,   0, 114,  18,  41,  32],\n",
       "       [163,   0,   0,   0, 130, 137,  91,  66],\n",
       "       [163,   0,   0,   0, 130,  13,  36,  84],\n",
       "       [163,   0,   0,   0, 130, 159, 173, 214],\n",
       "       [164,   0,   0,   0,  97, 128, 154,  23],\n",
       "       [177,   0,   0,   0, 114, 130,  41, 217],\n",
       "       [183,   0,   0,   0, 113,   0,  34,  95],\n",
       "       [183,   0,   0,   0, 129,  13, 164, 135],\n",
       "       [187,   0,   0,   0,  97, 128, 226, 209],\n",
       "       [187,   0,   0,   0, 129, 157, 236, 241],\n",
       "       [188,   0,   0,   0, 129, 137, 211, 102],\n",
       "       [188,   0,   0,   0, 113,  18, 185, 139],\n",
       "       [188,   0,   0,   0, 129, 159, 205, 192],\n",
       "       [188,   0,   0,   0,  50,  23, 143, 241],\n",
       "       [189,   0,   0,   0,  50, 159, 214,   4],\n",
       "       [189,   0,   0,   0,  50,  23, 175,  27],\n",
       "       [190,   0,   0,   0,  50,  23, 151, 134],\n",
       "       [190,   0,   0,   0, 130, 159, 133, 158],\n",
       "       [192,   0,   0,   0, 114, 150,   8, 148],\n",
       "       [210,   0,   0,   0, 226, 128, 114,  27],\n",
       "       [211,   0,   0,   0,  50,  23, 143, 109],\n",
       "       [211,   0,   0,   0, 194,   8, 235, 154],\n",
       "       [223,   0,   0,   0, 129, 159,  29,  53],\n",
       "       [223,   0,   0,   0, 130, 159, 197,  85],\n",
       "       [223,   0,   0,   0, 129, 137,  51,  95],\n",
       "       [223,   0,   0,   0, 130, 159,  85, 111],\n",
       "       [223,   0,   0,   0,  50, 159,  86, 220],\n",
       "       [224,   0,   0,   0, 130, 159, 101,  26],\n",
       "       [224,   0,   0,   0, 130, 159, 165,  58],\n",
       "       [235,   0,   0,   0, 129, 159,  21, 188],\n",
       "       [235,   0,   0,   0, 113,  23, 176, 243],\n",
       "       [236,   0,   0,   0, 113,  23, 232,  11],\n",
       "       [236,   0,   0,   0, 114, 150,  88, 158],\n",
       "       [240,   0,   0,   0,  50,  23,  63,  20],\n",
       "       [240,   0,   0,   0, 130,  13, 244,  45],\n",
       "       [244,   0,   0,   0, 114,  18, 201, 157],\n",
       "       [244,   0,   0,   0, 130, 159,  93, 185],\n",
       "       [246,   0,   0,   0, 130, 159,  21,  44]], dtype=uint8)"
      ]
     },
     "execution_count": 115,
     "metadata": {},
     "output_type": "execute_result"
    }
   ],
   "source": [
    "bin_data [0:40]"
   ]
  },
  {
   "cell_type": "code",
   "execution_count": 111,
   "metadata": {},
   "outputs": [],
   "source": [
    "#helper function\n",
    "def create_word(barr):\n",
    "    h = 0\n",
    "    for b in reversed(barr):\n",
    "        h = h << 8\n",
    "        h = h | b\n",
    "    #print (hex(h) )\n",
    "    return h\n",
    "    \n",
    "def get_val(h, bitmask, r_shift ):\n",
    "    val = (h&bitmask) >>r_shift\n",
    "    return val"
   ]
  },
  {
   "cell_type": "code",
   "execution_count": 53,
   "metadata": {},
   "outputs": [],
   "source": [
    "def extract_column(data, begin_byte, end_byte,pattern, right_shift):\n",
    "    warr = map(create_word,data[:,begin_byte:end_byte])\n",
    "    r = [get_val(w,pattern,right_shift) for  w in warr]\n",
    "\n",
    "    return r"
   ]
  },
  {
   "cell_type": "code",
   "execution_count": 56,
   "metadata": {},
   "outputs": [
    {
     "data": {
      "text/plain": [
       "array([[227,  81,  23,   1, 114,  18,   9,  26],\n",
       "       [227,  81,  23,   1, 194,   8,  75,  64]], dtype=uint8)"
      ]
     },
     "execution_count": 56,
     "metadata": {},
     "output_type": "execute_result"
    }
   ],
   "source": [
    "bin_data[-2:]"
   ]
  },
  {
   "cell_type": "code",
   "execution_count": 178,
   "metadata": {},
   "outputs": [],
   "source": [
    "file =\"/home/odin/work/gProj/clockSyncLEO/TimeStampData/13Nov18/10KM_2018-06-20T17-33-20-224820.txt\"\n",
    "#raw_data  = np.fromfile(file, dtype=np.uint64)"
   ]
  },
  {
   "cell_type": "code",
   "execution_count": 117,
   "metadata": {},
   "outputs": [
    {
     "data": {
      "text/plain": [
       "array([12309478529212350622, 14422249564331311262, 15773329452542460062,\n",
       "       13749233690901217439,  3856076897398030497,  2317403764094402723,\n",
       "        4781566620822667427,  6062985850344439971, 15469195675782086819,\n",
       "        1700812963385966756, 15648181806413381809,  6855042068142620855,\n",
       "        9773951939002761399, 15123791652763730107, 17432481435020689595,\n",
       "        7409416999098384572, 10068098718504059068, 13892935801907445948,\n",
       "       17406156588326060220,   348641058264973501,  1994838663464222909,\n",
       "        9698245826081456318, 11422711410589696190, 10666941133797458112,\n",
       "        1977784894520033490,  7894554175319572691, 11163025730684584147,\n",
       "        3827390634734387423,  6180521444330438879,  6859977844559184095,\n",
       "        8022493691924971743, 15877052573438443743,  1902101798328467680,\n",
       "        4225959206051643616, 13552914030040973547, 17559560721216307435,\n",
       "         857961503112823020, 11410035072313589996,  1458910307807133936,\n",
       "        3311286478021066992], dtype=uint64)"
      ]
     },
     "execution_count": 117,
     "metadata": {},
     "output_type": "execute_result"
    }
   ],
   "source": [
    "raw_data [:40]"
   ]
  },
  {
   "cell_type": "code",
   "execution_count": 127,
   "metadata": {},
   "outputs": [],
   "source": [
    "raw_data  = np.fromfile(file, dtype='<u8')"
   ]
  },
  {
   "cell_type": "code",
   "execution_count": 128,
   "metadata": {},
   "outputs": [
    {
     "data": {
      "text/plain": [
       "array([12309478529212350622, 14422249564331311262, 15773329452542460062,\n",
       "       13749233690901217439,  3856076897398030497,  2317403764094402723,\n",
       "        4781566620822667427,  6062985850344439971, 15469195675782086819,\n",
       "        1700812963385966756, 15648181806413381809,  6855042068142620855,\n",
       "        9773951939002761399, 15123791652763730107, 17432481435020689595,\n",
       "        7409416999098384572, 10068098718504059068, 13892935801907445948,\n",
       "       17406156588326060220,   348641058264973501,  1994838663464222909,\n",
       "        9698245826081456318, 11422711410589696190, 10666941133797458112,\n",
       "        1977784894520033490,  7894554175319572691, 11163025730684584147,\n",
       "        3827390634734387423,  6180521444330438879,  6859977844559184095,\n",
       "        8022493691924971743, 15877052573438443743,  1902101798328467680,\n",
       "        4225959206051643616, 13552914030040973547, 17559560721216307435,\n",
       "         857961503112823020, 11410035072313589996,  1458910307807133936,\n",
       "        3311286478021066992], dtype=uint64)"
      ]
     },
     "execution_count": 128,
     "metadata": {},
     "output_type": "execute_result"
    }
   ],
   "source": [
    "raw_data[0:40]"
   ]
  },
  {
   "cell_type": "code",
   "execution_count": 147,
   "metadata": {},
   "outputs": [],
   "source": [
    "x = raw_data[8]"
   ]
  },
  {
   "cell_type": "code",
   "execution_count": null,
   "metadata": {},
   "outputs": [],
   "source": []
  },
  {
   "cell_type": "code",
   "execution_count": 151,
   "metadata": {},
   "outputs": [],
   "source": [
    "x = np.right_shift(x, np.uint64(32))"
   ]
  },
  {
   "cell_type": "code",
   "execution_count": 152,
   "metadata": {},
   "outputs": [],
   "source": [
    "x = x"
   ]
  },
  {
   "cell_type": "code",
   "execution_count": 153,
   "metadata": {},
   "outputs": [
    {
     "data": {
      "text/plain": [
       "109915"
      ]
     },
     "execution_count": 153,
     "metadata": {},
     "output_type": "execute_result"
    }
   ],
   "source": [
    "x"
   ]
  },
  {
   "cell_type": "code",
   "execution_count": 165,
   "metadata": {},
   "outputs": [],
   "source": [
    "def _data_extractor(filename):\n",
    "    \"\"\"Reads raw timestamp into time and patterns vectors\n",
    "\n",
    "    :param filename: a python file object open in binary mode\n",
    "    :type filename: _io.BufferedReader\n",
    "    :returns: Two vectors: timestamps, corresponding pattern\n",
    "    :rtype: {numpy.ndarray(float), numpy.ndarray(uint32)}\n",
    "    \"\"\"\n",
    "    with open(filename, 'rb') as f:\n",
    "        data = np.fromfile(file=f, dtype='=I').reshape(-1, 2)\n",
    "        # cast to uint64!!!\n",
    "        t = ((np.uint64(data[:, 0]) << 17) + (data[:, 1] >> 15)) / 8.\n",
    "        #t = ((np.uint64(data[:, 0]) << 17) + (data[:, 1] >> 15)) \n",
    "        p = data[:, 1] & 0xf\n",
    "        return t, p\n"
   ]
  },
  {
   "cell_type": "code",
   "execution_count": 179,
   "metadata": {},
   "outputs": [],
   "source": [
    "t,p = _data_extractor(file)"
   ]
  },
  {
   "cell_type": "code",
   "execution_count": 180,
   "metadata": {},
   "outputs": [
    {
     "data": {
      "text/plain": [
       "array([3.91143688e+06, 3.92457625e+06, 3.97981688e+06, ...,\n",
       "       2.99915917e+11, 2.99916072e+11, 2.99916074e+11])"
      ]
     },
     "execution_count": 180,
     "metadata": {},
     "output_type": "execute_result"
    }
   ],
   "source": [
    "t"
   ]
  },
  {
   "cell_type": "code",
   "execution_count": 186,
   "metadata": {},
   "outputs": [],
   "source": [
    "unique, counts = np.unique(p, return_counts=True)\n",
    "d= dict(zip(unique, counts))\n"
   ]
  },
  {
   "cell_type": "code",
   "execution_count": 182,
   "metadata": {},
   "outputs": [
    {
     "data": {
      "text/plain": [
       "array([87750984.75 , 87875461.   , 87976580.25 , 87977769.125,\n",
       "       87979164.625, 87980942.5  , 88080189.375, 88131982.5  ])"
      ]
     },
     "execution_count": 182,
     "metadata": {},
     "output_type": "execute_result"
    }
   ],
   "source": [
    "t[3000:3008]"
   ]
  },
  {
   "cell_type": "code",
   "execution_count": 183,
   "metadata": {},
   "outputs": [
    {
     "data": {
      "text/plain": [
       "3.4534850562187502"
      ]
     },
     "execution_count": 183,
     "metadata": {},
     "output_type": "execute_result"
    }
   ],
   "source": [
    "221023043598 * 125e-12 /8"
   ]
  },
  {
   "cell_type": "code",
   "execution_count": 184,
   "metadata": {},
   "outputs": [],
   "source": [
    "b = t[0]\n",
    "e = t[-1]"
   ]
  },
  {
   "cell_type": "code",
   "execution_count": 185,
   "metadata": {},
   "outputs": [
    {
     "data": {
      "text/plain": [
       "4.998536042402083"
      ]
     },
     "execution_count": 185,
     "metadata": {},
     "output_type": "execute_result"
    }
   ],
   "source": [
    "(e - b) * 1e-9 / 60"
   ]
  },
  {
   "cell_type": "code",
   "execution_count": 187,
   "metadata": {},
   "outputs": [
    {
     "data": {
      "text/plain": [
       "{1: 4634679, 2: 6429484, 3: 1181}"
      ]
     },
     "execution_count": 187,
     "metadata": {},
     "output_type": "execute_result"
    }
   ],
   "source": [
    "# {1: 4615196, 2: 6246245, 3: 1151} # 3 is the accidental coincidences. \n",
    "d"
   ]
  },
  {
   "cell_type": "code",
   "execution_count": 188,
   "metadata": {},
   "outputs": [
    {
     "data": {
      "text/plain": [
       "1794805"
      ]
     },
     "execution_count": 188,
     "metadata": {},
     "output_type": "execute_result"
    }
   ],
   "source": [
    "d[2]-d[1]"
   ]
  },
  {
   "cell_type": "code",
   "execution_count": 189,
   "metadata": {},
   "outputs": [
    {
     "data": {
      "text/plain": [
       "(11065344,)"
      ]
     },
     "execution_count": 189,
     "metadata": {},
     "output_type": "execute_result"
    }
   ],
   "source": [
    "t.shape"
   ]
  },
  {
   "cell_type": "code",
   "execution_count": 9,
   "metadata": {},
   "outputs": [
    {
     "data": {
      "text/plain": [
       "array([ 0,  3,  6,  9, 12, 15])"
      ]
     },
     "execution_count": 9,
     "metadata": {},
     "output_type": "execute_result"
    }
   ],
   "source": [
    "arr = np.arange(16)\n",
    "arr\n",
    "condition = np.mod(arr, 3)==0\n",
    "condition\n",
    "np.extract(condition, arr)\n",
    "#array([0, 3, 6, 9])"
   ]
  },
  {
   "cell_type": "code",
   "execution_count": 10,
   "metadata": {},
   "outputs": [
    {
     "data": {
      "text/plain": [
       "array([ 0,  1,  2,  3,  4,  5,  6,  7,  8,  9, 10, 11, 12, 13, 14, 15])"
      ]
     },
     "execution_count": 10,
     "metadata": {},
     "output_type": "execute_result"
    }
   ],
   "source": [
    "arr"
   ]
  },
  {
   "cell_type": "code",
   "execution_count": 11,
   "metadata": {},
   "outputs": [
    {
     "data": {
      "text/plain": [
       "array([ True, False, False,  True, False, False,  True, False, False,\n",
       "        True, False, False,  True, False, False,  True])"
      ]
     },
     "execution_count": 11,
     "metadata": {},
     "output_type": "execute_result"
    }
   ],
   "source": [
    "condition"
   ]
  },
  {
   "cell_type": "code",
   "execution_count": 17,
   "metadata": {},
   "outputs": [],
   "source": [
    "condition = np.bitwise_and(arr,2) == 2"
   ]
  },
  {
   "cell_type": "code",
   "execution_count": 18,
   "metadata": {},
   "outputs": [
    {
     "data": {
      "text/plain": [
       "array([ 2,  3,  6,  7, 10, 11, 14, 15])"
      ]
     },
     "execution_count": 18,
     "metadata": {},
     "output_type": "execute_result"
    }
   ],
   "source": [
    "np.extract(condition, arr)"
   ]
  },
  {
   "cell_type": "code",
   "execution_count": 21,
   "metadata": {},
   "outputs": [],
   "source": [
    "g = np.zeros(5,dtype='float')"
   ]
  },
  {
   "cell_type": "code",
   "execution_count": 22,
   "metadata": {},
   "outputs": [
    {
     "data": {
      "text/plain": [
       "array([0., 0., 0., 0., 0.])"
      ]
     },
     "execution_count": 22,
     "metadata": {},
     "output_type": "execute_result"
    }
   ],
   "source": [
    "g"
   ]
  },
  {
   "cell_type": "code",
   "execution_count": 29,
   "metadata": {},
   "outputs": [
    {
     "data": {
      "text/plain": [
       "finfo(resolution=1e-15, min=-1.7976931348623157e+308, max=1.7976931348623157e+308, dtype=float64)"
      ]
     },
     "execution_count": 29,
     "metadata": {},
     "output_type": "execute_result"
    }
   ],
   "source": [
    "np.finfo(np.float)"
   ]
  },
  {
   "cell_type": "code",
   "execution_count": 30,
   "metadata": {},
   "outputs": [],
   "source": [
    "array = np.array([49, 51, 53, 56]) - 10"
   ]
  },
  {
   "cell_type": "code",
   "execution_count": 31,
   "metadata": {},
   "outputs": [
    {
     "data": {
      "text/plain": [
       "array([39, 41, 43, 46])"
      ]
     },
     "execution_count": 31,
     "metadata": {},
     "output_type": "execute_result"
    }
   ],
   "source": [
    "array"
   ]
  },
  {
   "cell_type": "code",
   "execution_count": 32,
   "metadata": {},
   "outputs": [],
   "source": [
    "a = np.array([49, 51, 53, 56])"
   ]
  },
  {
   "cell_type": "code",
   "execution_count": 33,
   "metadata": {},
   "outputs": [],
   "source": [
    "np.savetxt(\"foo.csv\", a, delimiter=\",\")"
   ]
  },
  {
   "cell_type": "code",
   "execution_count": 34,
   "metadata": {},
   "outputs": [],
   "source": [
    "b = [2,3,4,5]"
   ]
  },
  {
   "cell_type": "code",
   "execution_count": 36,
   "metadata": {},
   "outputs": [],
   "source": [
    "np.savetxt(\"bar.csv\", b, delimiter=\",\")"
   ]
  },
  {
   "cell_type": "code",
   "execution_count": null,
   "metadata": {},
   "outputs": [],
   "source": []
  }
 ],
 "metadata": {
  "kernelspec": {
   "display_name": "Python 3",
   "language": "python",
   "name": "python3"
  },
  "language_info": {
   "codemirror_mode": {
    "name": "ipython",
    "version": 3
   },
   "file_extension": ".py",
   "mimetype": "text/x-python",
   "name": "python",
   "nbconvert_exporter": "python",
   "pygments_lexer": "ipython3",
   "version": "3.5.2"
  }
 },
 "nbformat": 4,
 "nbformat_minor": 1
}
